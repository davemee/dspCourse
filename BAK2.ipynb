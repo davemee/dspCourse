{
 "metadata": {
  "name": "",
  "signature": "sha256:bf163cc9fcedd55625f866fa51b2ce28879407028f01f4f12e93f84650d3f2b2"
 },
 "nbformat": 3,
 "nbformat_minor": 0,
 "worksheets": [
  {
   "cells": [
    {
     "cell_type": "code",
     "collapsed": false,
     "input": [
      "%matplotlib inline\n",
      "import matplotlib.pyplot as plt\n",
      "import numpy as np\n",
      "import random\n",
      "import math"
     ],
     "language": "python",
     "metadata": {},
     "outputs": [],
     "prompt_number": 3
    },
    {
     "cell_type": "markdown",
     "metadata": {},
     "source": [
      "set working directory:"
     ]
    },
    {
     "cell_type": "code",
     "collapsed": false,
     "input": [
      "cd /Users/macuserin/Documents/Max/Projects/BAC3/data"
     ],
     "language": "python",
     "metadata": {},
     "outputs": [
      {
       "output_type": "stream",
       "stream": "stdout",
       "text": [
        "/Users/macuserin/Documents/Max/Projects/BAC3/data\n"
       ]
      }
     ],
     "prompt_number": 7
    },
    {
     "cell_type": "markdown",
     "metadata": {},
     "source": [
      "A function for parsing typical coll/dict Max/MSP data to an array:"
     ]
    },
    {
     "cell_type": "code",
     "collapsed": false,
     "input": [
      "def parseFrame(jsonFile):\n",
      "    import json\n",
      "    json_data=open(jsonFile)\n",
      "    data = json.load(json_data)\n",
      "    json_data.close()\n",
      "    array1 = []\n",
      "    for i in range (len(data)):\n",
      "        array1.append(data[str(i)][0])\n",
      "    return array1"
     ],
     "language": "python",
     "metadata": {},
     "outputs": [],
     "prompt_number": 5
    },
    {
     "cell_type": "markdown",
     "metadata": {},
     "source": [
      "Here, the accumulation of the autocorrelation's Spectrum is loaded: "
     ]
    },
    {
     "cell_type": "code",
     "collapsed": false,
     "input": [
      "spectrum = parseFrame(\"Kuebel_Acc_autoCorrel.json\")\n",
      "sr = 44100.\n",
      "frameSize = len(spectrum)"
     ],
     "language": "python",
     "metadata": {},
     "outputs": [],
     "prompt_number": 37
    },
    {
     "cell_type": "markdown",
     "metadata": {},
     "source": [
      "Helper function to convert a bin number to a frequency in Hz:"
     ]
    },
    {
     "cell_type": "code",
     "collapsed": false,
     "input": [
      "def binToFreq(bins, sr, frameSize):\n",
      "    freqs = []\n",
      "    for i in range(len(bins)):\n",
      "        f = (bins[i]/float(frameSize))*sr/2\n",
      "        freqs.append(f)\n",
      "    return freqs"
     ],
     "language": "python",
     "metadata": {},
     "outputs": [],
     "prompt_number": 45
    },
    {
     "cell_type": "code",
     "collapsed": false,
     "input": [
      "#Plotting the FFT data\n",
      "fig = plt.figure(figsize=(10,5))\n",
      "ax = fig.add_subplot(111)\n",
      "frame = spectrum\n",
      "n = np.linspace(0, sr/2, frameSize)\n",
      "plt.plot(n, frame)\n",
      "plt.title('Accumulation of autocorrelated Spectrum');\n",
      "plt.axis([0, sr/2, 0, 1.2])\n",
      "ax.set_xlabel('frequency')\n",
      "ax.set_ylabel('Linear Ampitude')"
     ],
     "language": "python",
     "metadata": {},
     "outputs": [
      {
       "metadata": {},
       "output_type": "pyout",
       "prompt_number": 86,
       "text": [
        "<matplotlib.text.Text at 0x109c53710>"
       ]
      },
      {
       "metadata": {},
       "output_type": "display_data",
       "png": "[encoded data removed]",
       "text": [
        "<matplotlib.figure.Figure at 0x1099943d0>"
       ]
      }
     ],
     "prompt_number": 86
    },
    {
     "cell_type": "code",
     "collapsed": false,
     "input": [
      "#--A simple function that tries to find local maxima\n",
      "\n",
      "def findPeaks2(source, spread, iterations):\n",
      "    import numpy as np\n",
      "    import copy\n",
      "    \n",
      "    mIndex = []\n",
      "    newSource = copy.deepcopy(source)\n",
      "    for j in range (iterations):\n",
      "        mIndex.append(np.argmax(newSource))\n",
      "        for i in range ((spread*2)+1):\n",
      "            delStartPoint = np.clip(mIndex[j]-(spread), 0, len(source)-1)\n",
      "            #print delStartPoint\n",
      "            delIndex = np.clip(delStartPoint+i, 0, len(source)-1) \n",
      "            newSource[delIndex] = 0\n",
      "\n",
      "    return mIndex, newSource"
     ],
     "language": "python",
     "metadata": {},
     "outputs": [],
     "prompt_number": 14
    },
    {
     "cell_type": "code",
     "collapsed": false,
     "input": [
      "#--A function calling findPeaks2, that creates a signal suitable for graphing. \n",
      "def markerCreate(testSignal, spread, iterations):\n",
      "    \n",
      "    peaks = []\n",
      "    result = findPeaks2(testSignal, spread, iterations)\n",
      "    peaks = result[0]\n",
      "\n",
      "    #print peaks\n",
      "    marker = np.zeros(len(testSignal))\n",
      "    marker = marker-1\n",
      "\n",
      "    for k in peaks: \n",
      "        marker[k]=testSignal[k]\n",
      "    return marker, peaks"
     ],
     "language": "python",
     "metadata": {},
     "outputs": [],
     "prompt_number": 15
    },
    {
     "cell_type": "code",
     "collapsed": false,
     "input": [
      "#A function for generating a Convolution Kernel\n",
      "\n",
      "def kernelCreate(length, decay):\n",
      "    import math\n",
      "    #decay = 0.1\n",
      "    kernel = []\n",
      "    n = range(length)\n",
      "    for i in range(length):\n",
      "        sample = math.exp(-i*decay)\n",
      "        kernel.append(float(sample))\n",
      "    return kernel"
     ],
     "language": "python",
     "metadata": {},
     "outputs": [],
     "prompt_number": 16
    },
    {
     "cell_type": "code",
     "collapsed": false,
     "input": [
      "#Generating and plotting the Kernel\n",
      "#--create Convolution Kernel\n",
      "length = 100\n",
      "kernel = kernelCreate(length, 0.2)\n",
      "n = range(length)\n",
      "\n",
      "plt.stem(n, kernel)\n",
      "plt.axis([-1, length,0,1.2])"
     ],
     "language": "python",
     "metadata": {},
     "outputs": [
      {
       "metadata": {},
       "output_type": "pyout",
       "prompt_number": 17,
       "text": [
        "[-1, 100, 0, 1.2]"
       ]
      },
      {
       "metadata": {},
       "output_type": "display_data",
       "png": "[encoded data removed]",
       "text": [
        "<matplotlib.figure.Figure at 0x10587aa10>"
       ]
      }
     ],
     "prompt_number": 17
    },
    {
     "cell_type": "code",
     "collapsed": false,
     "input": [
      "plt.figure(figsize=(20,10))\n",
      "plt.axis([0, 1000, 0, 1.2])\n",
      "\n",
      "\n",
      "\n",
      "#-------IndexSIgnal\n",
      "x2 = np.linspace(0, sr/2, frameSize)\n",
      "\n",
      "\n",
      "#--plot OriginalFrame\n",
      "plt.plot(x2, frame, 'b-')\n",
      "\n",
      "\n",
      "\n",
      "# ------ a non-Kausal FIR Lowpass\n",
      "\n",
      "#lp2 = nonKausalFIR1(frame, 20)\n",
      "# ------post-amplify\n",
      "#lp2[:] = [x*4 for x in lp2]\n",
      "#plt.plot(x2, lp2, 'g-')\n",
      "\n",
      "\n",
      "\n",
      "# ------ a simple FIR Lowpass\n",
      "\n",
      "#lp = onePole(frame, 0.015)\n",
      "# ------post-amplify\n",
      "#lp[:] = [x*10 for x in lp] \n",
      "#plt.plot(x2, lp, '--')\n",
      "\n",
      "\n",
      "# -----Convolution\n",
      "conv = np.convolve(frame,kernel)\n",
      "conv = conv[:4096]\n",
      "# ------post-amplify\n",
      "conv[:] = [x*0.25 for x in conv]\n",
      "plt.plot(x2, conv, 'g-')\n",
      "\n",
      "\n",
      "\n",
      "res = markerCreate(conv, 50, 14)\n",
      "marks = res[0]\n",
      "bins = res[1]\n",
      "print \"Bins:\"+str(bins)\n",
      "print \"Frequencies:\" +str(binToFreq(bins, sr, frameSize))\n",
      "plt.plot(x2, marks, 'rx', markersize=15)\n",
      "\n",
      "plt.title('RealData');\n"
     ],
     "language": "python",
     "metadata": {},
     "outputs": [
      {
       "output_type": "stream",
       "stream": "stdout",
       "text": [
        "Bins:[315, 588, 1092, 705, 870, 48, 366, 1600, 639, 1429, 1490, 1834, 1009, 433]\n",
        "Frequencies:[1695.73974609375, 3165.380859375, 5878.564453125, 3795.22705078125, 4683.4716796875, 258.3984375, 1970.2880859375, 8613.28125, 3439.92919921875, 7692.73681640625, 8021.1181640625, 9872.9736328125, 5431.75048828125, 2330.96923828125]\n"
       ]
      },
      {
       "metadata": {},
       "output_type": "display_data",
       "png": "[encoded data removed]",
       "text": [
        "<matplotlib.figure.Figure at 0x106013610>"
       ]
      }
     ],
     "prompt_number": 55
    },
    {
     "cell_type": "code",
     "collapsed": false,
     "input": [
      "def delta(data):\n",
      "    delta = []\n",
      "    for i in range(len(data)):\n",
      "        if i != 0:\n",
      "            d = data[i] - data[i - 1] \n",
      "        else: \n",
      "            d = 0\n",
      "        delta.append(d)\n",
      "    return delta\n",
      "\n",
      "\n",
      "def findPeaks(data, iterarions):\n",
      "\timport numpy as np\n",
      "\timport copy\n",
      "\ttdata = copy.copy(data)\n",
      "\tlength = len(data)\n",
      "\tpeaks = []\n",
      "\tdelt = delta(data)\n",
      "\n",
      "\tfor i in range(iterarions):\n",
      "\t\t\n",
      "\t\ttmax = np.argmax(tdata)\n",
      "\t\tpeaks.append(tmax)\n",
      "\t\tderiv = -1.\n",
      "\t\tthresh = 0.001\n",
      "\t\tj = 1\n",
      "\t\ttdata[tmax]= 0\n",
      "\t\twhile (deriv*-1)>thresh and j < 100:\n",
      "\t\t\tindex = np.clip(tmax+j, 0, length-1)\n",
      "\t\t\tderiv = delt[index+1]\n",
      "\t\t\ttdata[index] = 0\n",
      "\t\t\tj = j + 1 \n",
      "\t\t\n",
      "\t\tj = 1\n",
      "\t\tderiv = 1.\n",
      "\t\twhile deriv>thresh and j < 100:\n",
      "\t\t\tindex = np.clip(tmax-j, 0, length)\n",
      "\t\t\tderiv = delt[index]\n",
      "\t\t\ttdata[index] = 0\n",
      "\t\t\tj = j + 1\n",
      "\treturn peaks, tdata\n",
      "\n",
      "def markers(data, peaks, length):\n",
      "\timport numpy as np\n",
      "\tmarkers= np.zeros(length)\n",
      "\tmarkers = markers-1\n",
      "\tfor i in range(len(peaks)):\n",
      "\t\tmarkers[peaks[i]]=data[peaks[i]]\n",
      "\treturn markers\t\t\n",
      "\n"
     ],
     "language": "python",
     "metadata": {},
     "outputs": [],
     "prompt_number": 78
    },
    {
     "cell_type": "code",
     "collapsed": false,
     "input": [
      "numberOfPeaks = 15\n",
      "result = findPeaks(frame,numberOfPeaks)\n",
      "peaks = result[0]\n",
      "tdata = result[1]\n",
      "marks = markers(frame, peaks, len(frame))\n",
      "print peaks\n",
      "print binToFreq(peaks, sr,frameSize)"
     ],
     "language": "python",
     "metadata": {},
     "outputs": [
      {
       "output_type": "stream",
       "stream": "stdout",
       "text": [
        "[314, 308, 587, 1090, 340, 290, 345, 703, 568, 323, 349, 48, 330, 578, 629]\n",
        "[1690.3564453125, 1658.056640625, 3159.99755859375, 5867.7978515625, 1830.322265625, 1561.1572265625, 1857.23876953125, 3784.46044921875, 3057.71484375, 1738.80615234375, 1878.77197265625, 258.3984375, 1776.4892578125, 3111.5478515625, 3386.09619140625]\n"
       ]
      }
     ],
     "prompt_number": 81
    },
    {
     "cell_type": "code",
     "collapsed": false,
     "input": [
      "plt.figure(figsize=(20,10))\n",
      "plt.axis([0, 6000, 0, 1.2])\n",
      "plt.plot(x2, marks, \"rx\",markersize=15)\n",
      "plt.plot(x2, frame, \"k\")\n",
      "#plt.plot(x2, tdata)\n",
      "\n"
     ],
     "language": "python",
     "metadata": {},
     "outputs": [
      {
       "metadata": {},
       "output_type": "pyout",
       "prompt_number": 85,
       "text": [
        "[<matplotlib.lines.Line2D at 0x1099a9150>]"
       ]
      },
      {
       "metadata": {},
       "output_type": "display_data",
       "png": "[encoded data removed]",
       "text": [
        "<matplotlib.figure.Figure at 0x1088f7a10>"
       ]
      }
     ],
     "prompt_number": 85
    },
    {
     "cell_type": "code",
     "collapsed": false,
     "input": [],
     "language": "python",
     "metadata": {},
     "outputs": [],
     "prompt_number": 86
    },
    {
     "cell_type": "code",
     "collapsed": false,
     "input": [],
     "language": "python",
     "metadata": {},
     "outputs": []
    }
   ],
   "metadata": {}
  }
 ]
}